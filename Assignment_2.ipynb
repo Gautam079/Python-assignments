{
 "cells": [
  {
   "cell_type": "code",
   "execution_count": 1,
   "metadata": {},
   "outputs": [
    {
     "name": "stdout",
     "output_type": "stream",
     "text": [
      "35\n",
      "egaugnal evitisnes esac a si nohtyP\n",
      "a case sensitive language\n",
      "Python is object oriented language\n",
      "10\n",
      "Pythonisacasesensitivelanguage\n"
     ]
    }
   ],
   "source": [
    "#Answer_1 \n",
    "#a. finding the length of input string\n",
    "name = \"Python is a case sensitive language\"\n",
    "print(len(name))\n",
    "# b. reverse the order of the string in one line code \n",
    "str2 = name[::-1]\n",
    "print(str2)\n",
    "\n",
    "# c. Using Slice function store “a case sensitive” in new string.\n",
    "\n",
    "s1 = slice(10,35)\n",
    "print(name[s1])\n",
    "\n",
    "\n",
    "# d. Replace “a case sensitive” with “object oriented”\n",
    "name2 = name.replace(\"a case sensitive\",\"object oriented\")\n",
    "print(name2)\n",
    "\n",
    "# e. Find index of substring “a” in the given input string.\n",
    "print(name.find('a'))\n",
    "\n",
    "# f. Remove the white spaces from the given input string.\n",
    "str3 = name.replace(\" \",\"\")\n",
    "print(str3)"
   ]
  },
  {
   "cell_type": "code",
   "execution_count": 2,
   "metadata": {},
   "outputs": [
    {
     "name": "stdout",
     "output_type": "stream",
     "text": [
      "Hey,Gautam Here! \n",
      "My SID is 22105079 \n",
      "I am from ECE department and my CGPA is 10\n"
     ]
    }
   ],
   "source": [
    "#Answer_2\n",
    "name ='Gautam'\n",
    "sid = '22105079'\n",
    "depatment_name = 'ECE'\n",
    "cgpa = '10'\n",
    "# printing a para using different variables.\n",
    "print(f\"Hey,{name} Here! \\nMy SID is {sid} \\nI am from {depatment_name} department and my CGPA is {cgpa}\")"
   ]
  },
  {
   "cell_type": "code",
   "execution_count": 3,
   "metadata": {},
   "outputs": [
    {
     "name": "stdout",
     "output_type": "stream",
     "text": [
      "a & b = 8\n",
      "a | b = 58\n",
      "a ^ b = 50\n",
      "Left shifting both a and b with 2 bits = 224 = 40\n",
      "Right shifting a with 2 bits and b with 4 bits = 14 = 160\n"
     ]
    }
   ],
   "source": [
    "#Answer_3\n",
    "a = 56\n",
    "b = 10\n",
    "print(\"a & b =\", a&b)\n",
    "print(\"a | b =\", a|b)\n",
    "print(\"a ^ b =\", a^b)\n",
    "print(\"Left shifting both a and b with 2 bits =\", a<<2, \"=\", b<<2)\n",
    "print(\"Right shifting a with 2 bits and b with 4 bits =\", a>>2, \"=\", b<<4)"
   ]
  },
  {
   "cell_type": "code",
   "execution_count": 1,
   "metadata": {},
   "outputs": [
    {
     "name": "stdout",
     "output_type": "stream",
     "text": [
      "Enter first number: 25\n",
      "Enter second number: 26\n",
      "Enter third number: 27\n",
      "The greatest number of the three is 27.0\n"
     ]
    }
   ],
   "source": [
    "#Answer_4\n",
    "num1 = float(input(\"Enter first number: \"))\n",
    "num2 = float(input(\"Enter second number: \"))\n",
    "num3 = float(input(\"Enter third number: \"))\n",
    "print(\"The greatest number of the three is\", max(num1, num2, num3))"
   ]
  },
  {
   "cell_type": "code",
   "execution_count": 3,
   "metadata": {},
   "outputs": [
    {
     "name": "stdout",
     "output_type": "stream",
     "text": [
      "Enter the string: Gautam\n",
      "No\n"
     ]
    }
   ],
   "source": [
    "#Answer_5\n",
    "str = input(\"Enter the string: \")\n",
    "if \"Garry\" in str:\n",
    "    print(\"Yes\")\n",
    "else:\n",
    "    print(\"No\")"
   ]
  },
  {
   "cell_type": "code",
   "execution_count": 4,
   "metadata": {},
   "outputs": [
    {
     "name": "stdout",
     "output_type": "stream",
     "text": [
      "Enter length of side 1: 3\n",
      "Enter length of side 2: 4\n",
      "Enter length of side 3: 5\n",
      "Yes\n"
     ]
    }
   ],
   "source": [
    "#Answer_6\n",
    "len1 = float(input(\"Enter length of side 1: \"))\n",
    "len2 = float(input(\"Enter length of side 2: \"))\n",
    "len3 = float(input(\"Enter length of side 3: \"))\n",
    "if len1 + len2 > len3 and len2 + len3 > len1 and len1 + len3 > len2:\n",
    "    print(\"Yes\")\n",
    "else:\n",
    "    print(\"No\")"
   ]
  },
  {
   "cell_type": "code",
   "execution_count": null,
   "metadata": {},
   "outputs": [],
   "source": []
  }
 ],
 "metadata": {
  "kernelspec": {
   "display_name": "Python 3 (ipykernel)",
   "language": "python",
   "name": "python3"
  },
  "language_info": {
   "codemirror_mode": {
    "name": "ipython",
    "version": 3
   },
   "file_extension": ".py",
   "mimetype": "text/x-python",
   "name": "python",
   "nbconvert_exporter": "python",
   "pygments_lexer": "ipython3",
   "version": "3.9.13"
  },
  "vscode": {
   "interpreter": {
    "hash": "f3a52463084db90f96d29dcfcfd9bf276dba3c521d76c4c38c835392b64a093b"
   }
  }
 },
 "nbformat": 4,
 "nbformat_minor": 2
}
