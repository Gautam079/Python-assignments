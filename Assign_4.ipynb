{
 "cells": [
  {
   "cell_type": "code",
   "execution_count": 1,
   "id": "4415b8a2",
   "metadata": {},
   "outputs": [
    {
     "name": "stdout",
     "output_type": "stream",
     "text": [
      "Enter your marks =86\n",
      "Grade: A\n"
     ]
    }
   ],
   "source": [
    "x=int(input(\"Enter your marks =\"))\n",
    "if x<=25:\n",
    "    print(\"Grade: F\")\n",
    "elif 25<x<=45:\n",
    "    print(\"Grade : E\")\n",
    "elif  45<x<=50:\n",
    "    print(\"Grade: D\")\n",
    "elif 50<x<=60:\n",
    "    print(\"Grade: c\")\n",
    "elif 60<x<=80:\n",
    "    print(\"Grade: B\")\n",
    "elif 80<x<=100 :\n",
    "    print(\"Grade: A\")"
   ]
  },
  {
   "cell_type": "code",
   "execution_count": 2,
   "id": "07bb44ff",
   "metadata": {},
   "outputs": [
    {
     "name": "stdout",
     "output_type": "stream",
     "text": [
      "Enter the year=2100\n",
      "NON LEAP YEAR\n"
     ]
    }
   ],
   "source": [
    "x=int(input(\"Enter the year=\"))\n",
    "y=x%4\n",
    "z=x%100\n",
    "w=x%400\n",
    "if y==0 and z!=0:\n",
    "    print(\"LEAP YEAR\")\n",
    "elif z==0 and w==0:\n",
    "    print(\"LEAP YEAR\")\n",
    "else :\n",
    "    print(\"NON LEAP YEAR\")"
   ]
  },
  {
   "cell_type": "code",
   "execution_count": null,
   "id": "28f65c7c",
   "metadata": {},
   "outputs": [
    {
     "name": "stdout",
     "output_type": "stream",
     "text": [
      "10\n",
      "5\n",
      "MULTIPLY THE ABOVE NUMBERS = 50\n",
      "CORRECT ANSWER!!!\n",
      "4\n",
      "5\n",
      "MULTIPLY THE ABOVE NUMBERS = 25\n",
      "WRONG ANS TRY AGAIN:( right answer is : 20\n",
      "9\n",
      "6\n",
      "MULTIPLY THE ABOVE NUMBERS = 55\n",
      "WRONG ANS TRY AGAIN:( right answer is : 54\n",
      "7\n",
      "7\n",
      "MULTIPLY THE ABOVE NUMBERS = 49\n",
      "CORRECT ANSWER!!!\n",
      "10\n",
      "0\n"
     ]
    }
   ],
   "source": [
    "import random\n",
    "n=1\n",
    "while n<11:\n",
    "    x= (random.randint(0,10))\n",
    "    print(x)\n",
    "    y= (random.randint(0,10))\n",
    "    print(y)\n",
    "    z=int(input(\"MULTIPLY THE ABOVE NUMBERS = \"))\n",
    "    if z==x*y:\n",
    "        print(\"CORRECT ANSWER!!!\")\n",
    "    else:\n",
    "        print(\"WRONG ANS TRY AGAIN:( right answer is :\",x*y)\n",
    "n+=1        \n"
   ]
  },
  {
   "cell_type": "code",
   "execution_count": null,
   "id": "2059a4e1",
   "metadata": {},
   "outputs": [],
   "source": []
  },
  {
   "cell_type": "code",
   "execution_count": 2,
   "id": "266b7aed",
   "metadata": {},
   "outputs": [
    {
     "name": "stdout",
     "output_type": "stream",
     "text": [
      "number of candies= 177\n"
     ]
    }
   ],
   "source": [
    "n=0\n",
    "while(n<200):\n",
    "    if(n%5==2):\n",
    "        if(n%6==3):\n",
    "            if(n%7==2):\n",
    "                number=n\n",
    "    n+=1  \n",
    "print(\"number of candies=\",number)   "
   ]
  },
  {
   "cell_type": "code",
   "execution_count": null,
   "id": "e2c2cebe",
   "metadata": {},
   "outputs": [],
   "source": []
  },
  {
   "cell_type": "code",
   "execution_count": null,
   "id": "54dde3b5",
   "metadata": {},
   "outputs": [],
   "source": []
  }
 ],
 "metadata": {
  "kernelspec": {
   "display_name": "Python 3 (ipykernel)",
   "language": "python",
   "name": "python3"
  },
  "language_info": {
   "codemirror_mode": {
    "name": "ipython",
    "version": 3
   },
   "file_extension": ".py",
   "mimetype": "text/x-python",
   "name": "python",
   "nbconvert_exporter": "python",
   "pygments_lexer": "ipython3",
   "version": "3.9.13"
  }
 },
 "nbformat": 4,
 "nbformat_minor": 5
}
