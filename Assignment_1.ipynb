{
 "cells": [
  {
   "cell_type": "code",
   "execution_count": 11,
   "id": "61a80da1",
   "metadata": {},
   "outputs": [
    {
     "name": "stdout",
     "output_type": "stream",
     "text": [
      "Number1=15\n",
      "Number2=76\n",
      "Number3=9\n",
      "AVERAGE =  33.333333333333336\n"
     ]
    }
   ],
   "source": [
    "#Answer1\n",
    "a=int(input(\"Number1=\"))\n",
    "b=int(input(\"Number2=\"))\n",
    "c=int(input(\"Number3=\"))\n",
    "average= (a+b+c)/3\n",
    "print(\"AVERAGE = \",average)\n",
    "\n"
   ]
  },
  {
   "cell_type": "code",
   "execution_count": 2,
   "id": "6f81cbde",
   "metadata": {},
   "outputs": [
    {
     "name": "stdout",
     "output_type": "stream",
     "text": [
      "enter the Gross income=40000\n",
      "Number of dependents=2\n",
      "Income Tax = 4800.0\n"
     ]
    }
   ],
   "source": [
    "#Answer2\n",
    "a=float(input(\"enter the Gross income=\"))\n",
    "b=float(input(\"Number of dependents=\"))\n",
    "c=a-10000-(b*3000)\n",
    "d=c/5\n",
    "print(\"Income Tax =\",d)"
   ]
  },
  {
   "cell_type": "code",
   "execution_count": 2,
   "id": "7f0bac3a",
   "metadata": {
    "scrolled": true
   },
   "outputs": [
    {
     "name": "stdout",
     "output_type": "stream",
     "text": [
      "Entre the time in seconds=268\n",
      "4.0 min 28.0 sec\n"
     ]
    }
   ],
   "source": [
    "#Answer3\n",
    "a=float(input(\"Entre the time in seconds=\"))\n",
    "b=a//60\n",
    "c=a%60\n",
    "print(b,\"min\",c,\"sec\")"
   ]
  },
  {
   "cell_type": "code",
   "execution_count": 1,
   "id": "83cc05da",
   "metadata": {},
   "outputs": [
    {
     "name": "stdout",
     "output_type": "stream",
     "text": [
      "Value =  75.0\n",
      "<class 'str'>\n"
     ]
    }
   ],
   "source": [
    "#Answer4\n",
    "\n",
    "Num1 = int(25)\n",
    "Num2 = float(25.0)\n",
    "Num3 = float(str('25'))\n",
    "\n",
    "Num4 = str(Num1+Num2+Num3)\n",
    "\n",
    "print(\"Value = \" , Num4)\n",
    "print(type(Num4))\n",
    "\n",
    "\n"
   ]
  },
  {
   "cell_type": "code",
   "execution_count": 1,
   "id": "278482e6",
   "metadata": {},
   "outputs": [
    {
     "name": "stdout",
     "output_type": "stream",
     "text": [
      "0 0.0 1.0\n",
      "15 0.6503 -0.7597\n",
      "30 -0.988 0.1543\n",
      "45 0.8509 0.5253\n",
      "60 -0.3048 -0.9524\n",
      "75 -0.3878 0.9218\n",
      "90 0.894 -0.4481\n",
      "105 -0.9705 -0.241\n",
      "120 0.5806 0.8142\n",
      "135 0.0884 -0.9961\n",
      "150 -0.7149 0.6993\n",
      "165 0.9978 -0.0663\n",
      "180 -0.8012 -0.5985\n",
      "195 0.2195 0.9756\n",
      "210 0.4677 -0.8839\n",
      "225 -0.9301 0.3673\n",
      "240 0.9454 0.3258\n",
      "255 -0.5064 -0.8623\n",
      "270 -0.176 0.9844\n",
      "285 0.7739 -0.6333\n",
      "300 -0.9998 -0.0221\n",
      "315 0.7451 0.6669\n",
      "330 -0.1324 -0.9912\n",
      "345 -0.544 0.8391\n"
     ]
    }
   ],
   "source": [
    "#Answer5\n",
    "\n",
    "from math import*\n",
    "#create a for loop\n",
    "for i in range(0 ,360 ,15):\n",
    "    \n",
    "    print(i, round(sin(i),4),round(cos(i),4))"
   ]
  },
  {
   "cell_type": "code",
   "execution_count": null,
   "id": "6b05dc89",
   "metadata": {},
   "outputs": [],
   "source": [
    "\n",
    "\n",
    "       \n",
    "    "
   ]
  },
  {
   "cell_type": "code",
   "execution_count": null,
   "id": "2e34e209",
   "metadata": {},
   "outputs": [],
   "source": []
  }
 ],
 "metadata": {
  "kernelspec": {
   "display_name": "Python 3 (ipykernel)",
   "language": "python",
   "name": "python3"
  },
  "language_info": {
   "codemirror_mode": {
    "name": "ipython",
    "version": 3
   },
   "file_extension": ".py",
   "mimetype": "text/x-python",
   "name": "python",
   "nbconvert_exporter": "python",
   "pygments_lexer": "ipython3",
   "version": "3.9.13"
  }
 },
 "nbformat": 4,
 "nbformat_minor": 5
}
