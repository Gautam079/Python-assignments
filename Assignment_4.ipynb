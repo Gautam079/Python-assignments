{
 "cells": [
  {
   "cell_type": "code",
   "execution_count": 1,
   "id": "059f5427",
   "metadata": {},
   "outputs": [
    {
     "name": "stdout",
     "output_type": "stream",
     "text": [
      "Enter your marks =86\n",
      "Grade: A\n"
     ]
    }
   ],
   "source": [
    "x=int(input(\"Enter your marks =\"))\n",
    "if x<=25:\n",
    "    print(\"Grade: F\")\n",
    "elif 25<x<=45:\n",
    "    print(\"Grade : E\")\n",
    "elif  45<x<=50:\n",
    "    print(\"Grade: D\")\n",
    "elif 50<x<=60:\n",
    "    print(\"Grade: c\")\n",
    "elif 60<x<=80:\n",
    "    print(\"Grade: B\")\n",
    "else :\n",
    "    print(\"Grade: A\")"
   ]
  },
  {
   "cell_type": "code",
   "execution_count": 2,
   "id": "ad206eec",
   "metadata": {},
   "outputs": [
    {
     "name": "stdout",
     "output_type": "stream",
     "text": [
      "Enter the year=2100\n",
      "NON LEAP YEAR\n"
     ]
    }
   ],
   "source": [
    "x=int(input(\"Enter the year=\"))\n",
    "y=x%4\n",
    "z=x%100\n",
    "w=x%400\n",
    "if y==0 and z!=0:\n",
    "    print(\"LEAP YEAR\")\n",
    "elif z==0 and w==0:\n",
    "    print(\"LEAP YEAR\")\n",
    "else :\n",
    "    print(\"NON LEAP YEAR\")"
   ]
  },
  {
   "cell_type": "code",
   "execution_count": null,
   "id": "fcf78c45",
   "metadata": {},
   "outputs": [
    {
     "name": "stdout",
     "output_type": "stream",
     "text": [
      "9\n",
      "2\n",
      "MULTIPLY THE ABOVE NUMBERS = 11\n",
      "WRONG ANS TRY AGAIN:( right answer is : 18\n",
      "6\n",
      "5\n",
      "MULTIPLY THE ABOVE NUMBERS = 30\n",
      "CORRECT ANSWER!!!\n",
      "7\n",
      "5\n",
      "MULTIPLY THE ABOVE NUMBERS = 35\n",
      "CORRECT ANSWER!!!\n",
      "6\n",
      "9\n",
      "MULTIPLY THE ABOVE NUMBERS = 55\n",
      "WRONG ANS TRY AGAIN:( right answer is : 54\n",
      "2\n",
      "9\n"
     ]
    }
   ],
   "source": [
    "import random\n",
    "n=1\n",
    "while n<11:\n",
    "    x= (random.randint(0,10))\n",
    "    print(x)\n",
    "    y= (random.randint(0,10))\n",
    "    print(y)\n",
    "    z=int(input(\"MULTIPLY THE ABOVE NUMBERS = \"))\n",
    "    if z==x*y:\n",
    "        print(\"CORRECT ANSWER!!!\")\n",
    "    else:\n",
    "        print(\"WRONG ANS TRY AGAIN:( right answer is :\",x*y)\n",
    "n+=1        \n"
   ]
  },
  {
   "cell_type": "code",
   "execution_count": null,
   "id": "6c112ba8",
   "metadata": {},
   "outputs": [],
   "source": [
    "x=int(input(\"GUESS THE NUMBER OF CANDIES:\"))\n",
    "if x%5==2 and x%6==3 and x%7==2 and x<200:\n",
    "    print(\"WOHOO!! YOU GUESSED IT RIGHT\")\n",
    "elif x%5==2 and x%6==3 and x%7==2 and x>200:\n",
    "    print(\"THERE ARE LESSER CANDIES CAN'T YOU SEE!!!\")\n",
    "else :\n",
    "    print(\"TRY AGAIN:(\")\n",
    "    "
   ]
  },
  {
   "cell_type": "code",
   "execution_count": null,
   "id": "615815f3",
   "metadata": {},
   "outputs": [],
   "source": []
  }
 ],
 "metadata": {
  "kernelspec": {
   "display_name": "Python 3 (ipykernel)",
   "language": "python",
   "name": "python3"
  },
  "language_info": {
   "codemirror_mode": {
    "name": "ipython",
    "version": 3
   },
   "file_extension": ".py",
   "mimetype": "text/x-python",
   "name": "python",
   "nbconvert_exporter": "python",
   "pygments_lexer": "ipython3",
   "version": "3.9.13"
  }
 },
 "nbformat": 4,
 "nbformat_minor": 5
}
